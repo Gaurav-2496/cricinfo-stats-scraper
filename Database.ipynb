{
 "cells": [
  {
   "cell_type": "code",
   "execution_count": 11,
   "metadata": {},
   "outputs": [],
   "source": [
    "import sqlite3\n"
   ]
  },
  {
   "cell_type": "code",
   "execution_count": 12,
   "metadata": {},
   "outputs": [],
   "source": [
    "conn = sqlite3.connect('Hello.db')  \n",
    "c = conn.cursor()"
   ]
  },
  {
   "cell_type": "code",
   "execution_count": 13,
   "metadata": {},
   "outputs": [
    {
     "data": {
      "text/plain": [
       "<sqlite3.Cursor at 0x1038d0f80>"
      ]
     },
     "execution_count": 13,
     "metadata": {},
     "output_type": "execute_result"
    }
   ],
   "source": [
    "c.execute('''CREATE TABLE Tests\n",
    "             ([generated_id] INTEGER PRIMARY KEY,[Player_ID] integer, [Mat] integer, [Inns] integer, [NO] integer, [Runs] integer,\n",
    "             \n",
    "             [HS] integer, [Ave] integer, [BF] integer, [SR] integer, [100] integer, [50] integer, [4s] integer,\n",
    "             [6s] integer, [Ct] integer, [St] integer)''')\n",
    "          "
   ]
  },
  {
   "cell_type": "code",
   "execution_count": 14,
   "metadata": {},
   "outputs": [
    {
     "data": {
      "text/plain": [
       "<sqlite3.Cursor at 0x1038d0f80>"
      ]
     },
     "execution_count": 14,
     "metadata": {},
     "output_type": "execute_result"
    }
   ],
   "source": [
    "c.execute('''CREATE TABLE ODIs\n",
    "             ([generated_id] INTEGER PRIMARY KEY,[Player_ID] integer,[Mat] integer, [Inns] integer, [NO] integer, [Runs] integer,\n",
    "             \n",
    "             [HS] integer, [Ave] integer, [BF] integer, [SR] integer, [100] integer, [50] integer, [4s] integer,\n",
    "             [6s] integer, [Ct] integer, [St] integer)''')"
   ]
  },
  {
   "cell_type": "code",
   "execution_count": 15,
   "metadata": {},
   "outputs": [
    {
     "data": {
      "text/plain": [
       "<sqlite3.Cursor at 0x1038d0f80>"
      ]
     },
     "execution_count": 15,
     "metadata": {},
     "output_type": "execute_result"
    }
   ],
   "source": [
    "c.execute('''CREATE TABLE T20Is\n",
    "             ([generated_id] INTEGER PRIMARY KEY,[Player_ID] integer,[Mat] integer, [Inns] integer, [NO] integer, [Runs] integer,\n",
    "             \n",
    "             [HS] integer, [Ave] integer, [BF] integer, [SR] integer, [100] integer, [50] integer, [4s] integer,\n",
    "             [6s] integer, [Ct] integer, [St] integer)''')"
   ]
  },
  {
   "cell_type": "code",
   "execution_count": 16,
   "metadata": {},
   "outputs": [
    {
     "data": {
      "text/plain": [
       "<sqlite3.Cursor at 0x1038d0f80>"
      ]
     },
     "execution_count": 16,
     "metadata": {},
     "output_type": "execute_result"
    }
   ],
   "source": [
    "c.execute('''CREATE TABLE 'First-class'\n",
    "             ([generated_id] INTEGER PRIMARY KEY,[Player_ID] integer,[Mat] integer, [Inns] integer, [NO] integer, [Runs] integer,\n",
    "             \n",
    "             [HS] integer, [Ave] integer, [BF] integer, [SR] integer, [100] integer, [50] integer, [4s] integer,\n",
    "             [6s] integer, [Ct] integer, [St] integer)''')"
   ]
  },
  {
   "cell_type": "code",
   "execution_count": 17,
   "metadata": {},
   "outputs": [
    {
     "data": {
      "text/plain": [
       "<sqlite3.Cursor at 0x1038d0f80>"
      ]
     },
     "execution_count": 17,
     "metadata": {},
     "output_type": "execute_result"
    }
   ],
   "source": [
    "c.execute('''CREATE TABLE 'List A'\n",
    "             ([generated_id] INTEGER PRIMARY KEY,[Player_ID] integer,[Mat] integer, [Inns] integer, [NO] integer, [Runs] integer,\n",
    "             \n",
    "             [HS] integer, [Ave] integer, [BF] integer, [SR] integer, [100] integer, [50] integer, [4s] integer,\n",
    "             [6s] integer, [Ct] integer, [St] integer)''')"
   ]
  },
  {
   "cell_type": "code",
   "execution_count": 18,
   "metadata": {},
   "outputs": [
    {
     "data": {
      "text/plain": [
       "<sqlite3.Cursor at 0x1038d0f80>"
      ]
     },
     "execution_count": 18,
     "metadata": {},
     "output_type": "execute_result"
    }
   ],
   "source": [
    "c.execute('''CREATE TABLE T20s\n",
    "             ([generated_id] INTEGER PRIMARY KEY,[Player_ID] integer,[Mat] integer, [Inns] integer, [NO] integer, [Runs] integer,\n",
    "             \n",
    "             [HS] integer, [Ave] integer, [BF] integer, [SR] integer, [100] integer, [50] integer, [4s] integer,\n",
    "             [6s] integer, [Ct] integer, [St] integer)''')"
   ]
  },
  {
   "cell_type": "code",
   "execution_count": 19,
   "metadata": {},
   "outputs": [
    {
     "data": {
      "text/plain": [
       "<sqlite3.Cursor at 0x1038d0f80>"
      ]
     },
     "execution_count": 19,
     "metadata": {},
     "output_type": "execute_result"
    }
   ],
   "source": [
    "c.execute('''CREATE TABLE Players\n",
    "             ([player_id] INTEGER PRIMARY KEY,[Player_Name] text)''')"
   ]
  },
  {
   "cell_type": "code",
   "execution_count": 20,
   "metadata": {},
   "outputs": [],
   "source": [
    "conn.close()"
   ]
  },
  {
   "cell_type": "code",
   "execution_count": null,
   "metadata": {},
   "outputs": [],
   "source": []
  }
 ],
 "metadata": {
  "kernelspec": {
   "display_name": "Python 3",
   "language": "python",
   "name": "python3"
  },
  "language_info": {
   "codemirror_mode": {
    "name": "ipython",
    "version": 3
   },
   "file_extension": ".py",
   "mimetype": "text/x-python",
   "name": "python",
   "nbconvert_exporter": "python",
   "pygments_lexer": "ipython3",
   "version": "3.7.3"
  }
 },
 "nbformat": 4,
 "nbformat_minor": 2
}
