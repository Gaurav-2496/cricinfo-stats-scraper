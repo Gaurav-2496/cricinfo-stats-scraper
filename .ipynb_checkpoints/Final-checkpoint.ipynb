{
 "cells": [
  {
   "cell_type": "code",
   "execution_count": 31,
   "metadata": {},
   "outputs": [],
   "source": [
    "import urllib.request, urllib.parse, urllib.error\n",
    "from bs4 import BeautifulSoup\n",
    "import ssl\n",
    "import pandas as pd\n",
    "from collections import OrderedDict\n",
    "import sqlite3\n",
    "import sys\n"
   ]
  },
  {
   "cell_type": "code",
   "execution_count": 32,
   "metadata": {},
   "outputs": [],
   "source": [
    "conn = sqlite3.connect('Hello.db')  \n",
    "curr = conn.cursor()\n",
    "playerName = \"Rohit Sharma\""
   ]
  },
  {
   "cell_type": "code",
   "execution_count": 33,
   "metadata": {},
   "outputs": [
    {
     "name": "stdout",
     "output_type": "stream",
     "text": [
      "Player already exists\n"
     ]
    },
    {
     "ename": "SystemExit",
     "evalue": "0",
     "output_type": "error",
     "traceback": [
      "An exception has occurred, use %tb to see the full traceback.\n",
      "\u001b[0;31mSystemExit\u001b[0m\u001b[0;31m:\u001b[0m 0\n"
     ]
    }
   ],
   "source": [
    "curr.execute(\"SELECT * FROM Players WHERE Player_Name=?\", (\"Rohit Sharma\",))\n",
    "rows = curr.fetchall()\n",
    "if(len(rows)!=0):\n",
    "    print(\"Player already exists\")   \n",
    "    sys.exit(0)"
   ]
  },
  {
   "cell_type": "code",
   "execution_count": null,
   "metadata": {},
   "outputs": [],
   "source": [
    "curr.execute('INSERT INTO Players (Player_Name) VALUES (?)',\n",
    "            (playerName,))\n",
    "player_Id = curr.lastrowid\n",
    "\n",
    "print(player_Id)\n",
    "conn.commit()\n",
    "conn.close()"
   ]
  },
  {
   "cell_type": "code",
   "execution_count": null,
   "metadata": {},
   "outputs": [],
   "source": [
    "ctx = ssl.create_default_context()\n",
    "ctx.check_hostname = False\n",
    "ctx.verify_mode = ssl.CERT_NONE"
   ]
  },
  {
   "cell_type": "code",
   "execution_count": null,
   "metadata": {},
   "outputs": [],
   "source": [
    "url=\"http://www.espncricinfo.com/india/content/player/34102.html\"\n",
    "html = urllib.request.urlopen(url, context=ctx).read()\n"
   ]
  },
  {
   "cell_type": "code",
   "execution_count": null,
   "metadata": {},
   "outputs": [],
   "source": [
    "temp_data=OrderedDict()\n",
    "list_of_dict=[]\n",
    "bs=BeautifulSoup(html, \"lxml\")\n",
    "table_body=bs.find_all('tbody')\n",
    "rows = table_body[0].find_all('tr')\n",
    "headings = bs.findAll('tr',{\"class\",\"head\"})\n",
    "\n",
    "\n",
    "heads = headings[:2]\n",
    "vatting = heads[0]\n",
    "bowling = heads [1]\n",
    "\n",
    "batText = vatting.find_all(\"th\")\n",
    "bowlText = bowling.find_all(\"th\")\n",
    "bat = []\n",
    "for i in batText:\n",
    "    bat.append(i.text)\n",
    "    \n",
    "bowl = []\n",
    "for i in bowlText:\n",
    "    bowl.append(i.text)    \n",
    "\n",
    "\n",
    "print(len(bat))\n",
    "\n",
    "for row in rows:\n",
    "    cols=row.find_all('td')\n",
    "    cols=[x.text.strip() for x in cols]\n",
    "    temp_data=OrderedDict()\n",
    "    {el:0 for el in bat}\n",
    "#     print(len(cols))\n",
    "#     print(cols)\n",
    "#     print(bat)\n",
    "    for col in range(len(cols)):\n",
    "        temp_data[bat[col]] = cols[col]\n",
    "\n",
    "    list_of_dict.append(temp_data)\t"
   ]
  },
  {
   "cell_type": "code",
   "execution_count": null,
   "metadata": {},
   "outputs": [],
   "source": [
    "batDf=pd.DataFrame(list_of_dict)\n",
    "batDf\n",
    "batDf.set_index('', inplace=True)\n",
    "batDf"
   ]
  },
  {
   "cell_type": "code",
   "execution_count": null,
   "metadata": {},
   "outputs": [],
   "source": []
  },
  {
   "cell_type": "code",
   "execution_count": null,
   "metadata": {},
   "outputs": [],
   "source": [
    "temp_data=OrderedDict()\n",
    "list_of_dict=[]\n",
    "bs=BeautifulSoup(html, \"lxml\")\n",
    "table_body=bs.find_all('tbody')\n",
    "rows = table_body[1].find_all('tr')\n",
    "headings = bs.findAll('tr',{\"class\",\"head\"})\n",
    "\n",
    "\n",
    "heads = headings[:2]\n",
    "vatting = heads[0]\n",
    "bowling = heads [1]\n",
    "\n",
    "batText = vatting.find_all(\"th\")\n",
    "bowlText = bowling.find_all(\"th\")\n",
    "bat = []\n",
    "for i in batText:\n",
    "    bat.append(i.text)\n",
    "    \n",
    "bowl = []\n",
    "for i in bowlText:\n",
    "    bowl.append(i.text)    \n",
    "\n",
    "# print(bat[1:])   \n",
    "# print(bowl[1:])\n",
    "\n",
    "# bat = bat[1:]\n",
    "# bowl = bowl[1:]\n",
    "print(len(bat))\n",
    "\n",
    "for row in rows:\n",
    "    cols=row.find_all('td')\n",
    "    cols=[x.text.strip() for x in cols]\n",
    "    temp_data=OrderedDict()\n",
    "    {el:0 for el in bat}\n",
    "#     print(len(cols))\n",
    "#     print(cols)\n",
    "#     print(bat)\n",
    "    for col in range(len(cols)):\n",
    "        temp_data[bowl[col]] = cols[col]\n",
    "\n",
    "    list_of_dict.append(temp_data)\t"
   ]
  },
  {
   "cell_type": "code",
   "execution_count": null,
   "metadata": {},
   "outputs": [],
   "source": [
    "bowl_df=pd.DataFrame(list_of_dict)\n",
    "bowl_df\n",
    "bowl_df.set_index('', inplace=True)\n",
    "bowl_df"
   ]
  },
  {
   "cell_type": "code",
   "execution_count": null,
   "metadata": {},
   "outputs": [],
   "source": [
    "conn = sqlite3.connect('Hello.db')  \n",
    "c = conn.cursor()"
   ]
  },
  {
   "cell_type": "code",
   "execution_count": null,
   "metadata": {},
   "outputs": [],
   "source": [
    "for index, row in batDf.iterrows():\n",
    "    query = \"\"\"INSERT INTO `{}`\n",
    "                          ('Player_ID','Mat', 'Inns', 'NO', 'Runs', 'HS', 'Ave', 'BF', 'SR', '100', '50', '4s', '6s', 'Ct', 'St') \n",
    "                          VALUES (?, ?, ?, ?,?,?, ?, ?,?,?, ?, ?,?,?,?);\"\"\".format(index)\n",
    "    values = list(row)\n",
    "    values.insert(0,player_Id)\n",
    "    print((values))\n",
    "    c.execute(query, values)\n",
    "    \n",
    "conn.commit()   \n",
    "conn.close()"
   ]
  }
 ],
 "metadata": {
  "kernelspec": {
   "display_name": "Python 3",
   "language": "python",
   "name": "python3"
  },
  "language_info": {
   "codemirror_mode": {
    "name": "ipython",
    "version": 3
   },
   "file_extension": ".py",
   "mimetype": "text/x-python",
   "name": "python",
   "nbconvert_exporter": "python",
   "pygments_lexer": "ipython3",
   "version": "3.7.3"
  }
 },
 "nbformat": 4,
 "nbformat_minor": 2
}
