{
 "cells": [
  {
   "cell_type": "code",
   "execution_count": 65,
   "metadata": {},
   "outputs": [],
   "source": [
    "import sqlite3\n"
   ]
  },
  {
   "cell_type": "code",
   "execution_count": 66,
   "metadata": {},
   "outputs": [],
   "source": [
    "conn = sqlite3.connect('Hello.db')  \n",
    "c = conn.cursor()"
   ]
  },
  {
   "cell_type": "code",
   "execution_count": 67,
   "metadata": {},
   "outputs": [
    {
     "ename": "OperationalError",
     "evalue": "table Tests already exists",
     "output_type": "error",
     "traceback": [
      "\u001b[0;31m---------------------------------------------------------------------------\u001b[0m",
      "\u001b[0;31mOperationalError\u001b[0m                          Traceback (most recent call last)",
      "\u001b[0;32m<ipython-input-67-f54004eaca1f>\u001b[0m in \u001b[0;36m<module>\u001b[0;34m\u001b[0m\n\u001b[1;32m      3\u001b[0m \u001b[0;34m\u001b[0m\u001b[0m\n\u001b[1;32m      4\u001b[0m              \u001b[0;34m[\u001b[0m\u001b[0mHS\u001b[0m\u001b[0;34m]\u001b[0m \u001b[0minteger\u001b[0m\u001b[0;34m,\u001b[0m \u001b[0;34m[\u001b[0m\u001b[0mAve\u001b[0m\u001b[0;34m]\u001b[0m \u001b[0minteger\u001b[0m\u001b[0;34m,\u001b[0m \u001b[0;34m[\u001b[0m\u001b[0mBF\u001b[0m\u001b[0;34m]\u001b[0m \u001b[0minteger\u001b[0m\u001b[0;34m,\u001b[0m \u001b[0;34m[\u001b[0m\u001b[0mSR\u001b[0m\u001b[0;34m]\u001b[0m \u001b[0minteger\u001b[0m\u001b[0;34m,\u001b[0m \u001b[0;34m[\u001b[0m\u001b[0;36m100\u001b[0m\u001b[0;34m]\u001b[0m \u001b[0minteger\u001b[0m\u001b[0;34m,\u001b[0m \u001b[0;34m[\u001b[0m\u001b[0;36m50\u001b[0m\u001b[0;34m]\u001b[0m \u001b[0minteger\u001b[0m\u001b[0;34m,\u001b[0m \u001b[0;34m[\u001b[0m\u001b[0;36m4\u001b[0m\u001b[0ms\u001b[0m\u001b[0;34m]\u001b[0m \u001b[0minteger\u001b[0m\u001b[0;34m,\u001b[0m\u001b[0;34m\u001b[0m\u001b[0;34m\u001b[0m\u001b[0m\n\u001b[0;32m----> 5\u001b[0;31m              [6s] integer, [Ct] integer, [St] integer)''')\n\u001b[0m\u001b[1;32m      6\u001b[0m \u001b[0;34m\u001b[0m\u001b[0m\n",
      "\u001b[0;31mOperationalError\u001b[0m: table Tests already exists"
     ]
    }
   ],
   "source": [
    "c.execute('''CREATE TABLE Tests\n",
    "             ([generated_id] INTEGER PRIMARY KEY,[Player_ID] integer, [Mat] integer, [Inns] integer, [NO] integer, [Runs] integer,\n",
    "             \n",
    "             [HS] integer, [Ave] integer, [BF] integer, [SR] integer, [100] integer, [50] integer, [4s] integer,\n",
    "             [6s] integer, [Ct] integer, [St] integer)''')\n",
    "          "
   ]
  },
  {
   "cell_type": "code",
   "execution_count": null,
   "metadata": {},
   "outputs": [],
   "source": [
    "c.execute('''CREATE TABLE ODIs\n",
    "             ([generated_id] INTEGER PRIMARY KEY,[Player_ID] integer,[Mat] integer, [Inns] integer, [NO] integer, [Runs] integer,\n",
    "             \n",
    "             [HS] integer, [Ave] integer, [BF] integer, [SR] integer, [100] integer, [50] integer, [4s] integer,\n",
    "             [6s] integer, [Ct] integer, [St] integer)''')"
   ]
  },
  {
   "cell_type": "code",
   "execution_count": null,
   "metadata": {},
   "outputs": [],
   "source": [
    "c.execute('''CREATE TABLE T20Is\n",
    "             ([generated_id] INTEGER PRIMARY KEY,[Player_ID] integer,[Mat] integer, [Inns] integer, [NO] integer, [Runs] integer,\n",
    "             \n",
    "             [HS] integer, [Ave] integer, [BF] integer, [SR] integer, [100] integer, [50] integer, [4s] integer,\n",
    "             [6s] integer, [Ct] integer, [St] integer)''')"
   ]
  },
  {
   "cell_type": "code",
   "execution_count": null,
   "metadata": {},
   "outputs": [],
   "source": [
    "c.execute('''CREATE TABLE 'First-class'\n",
    "             ([generated_id] INTEGER PRIMARY KEY,[Player_ID] integer,[Mat] integer, [Inns] integer, [NO] integer, [Runs] integer,\n",
    "             \n",
    "             [HS] integer, [Ave] integer, [BF] integer, [SR] integer, [100] integer, [50] integer, [4s] integer,\n",
    "             [6s] integer, [Ct] integer, [St] integer)''')"
   ]
  },
  {
   "cell_type": "code",
   "execution_count": null,
   "metadata": {},
   "outputs": [],
   "source": [
    "c.execute('''CREATE TABLE 'List A'\n",
    "             ([generated_id] INTEGER PRIMARY KEY,[Player_ID] integer,[Mat] integer, [Inns] integer, [NO] integer, [Runs] integer,\n",
    "             \n",
    "             [HS] integer, [Ave] integer, [BF] integer, [SR] integer, [100] integer, [50] integer, [4s] integer,\n",
    "             [6s] integer, [Ct] integer, [St] integer)''')"
   ]
  },
  {
   "cell_type": "code",
   "execution_count": null,
   "metadata": {},
   "outputs": [],
   "source": [
    "c.execute('''CREATE TABLE T20s\n",
    "             ([generated_id] INTEGER PRIMARY KEY,[Player_ID] integer,[Mat] integer, [Inns] integer, [NO] integer, [Runs] integer,\n",
    "             \n",
    "             [HS] integer, [Ave] integer, [BF] integer, [SR] integer, [100] integer, [50] integer, [4s] integer,\n",
    "             [6s] integer, [Ct] integer, [St] integer)''')"
   ]
  },
  {
   "cell_type": "code",
   "execution_count": null,
   "metadata": {},
   "outputs": [],
   "source": [
    "c.execute('''CREATE TABLE Players\n",
    "             ([player_id] INTEGER PRIMARY KEY,[Player_Name] text)''')"
   ]
  },
  {
   "cell_type": "code",
   "execution_count": null,
   "metadata": {},
   "outputs": [],
   "source": [
    "conn.close()"
   ]
  },
  {
   "cell_type": "code",
   "execution_count": null,
   "metadata": {},
   "outputs": [],
   "source": []
  }
 ],
 "metadata": {
  "kernelspec": {
   "display_name": "Python 3",
   "language": "python",
   "name": "python3"
  },
  "language_info": {
   "codemirror_mode": {
    "name": "ipython",
    "version": 3
   },
   "file_extension": ".py",
   "mimetype": "text/x-python",
   "name": "python",
   "nbconvert_exporter": "python",
   "pygments_lexer": "ipython3",
   "version": "3.7.3"
  }
 },
 "nbformat": 4,
 "nbformat_minor": 2
}
