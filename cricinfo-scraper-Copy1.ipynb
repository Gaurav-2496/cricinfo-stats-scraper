{
 "cells": [
  {
   "cell_type": "code",
   "execution_count": 1,
   "metadata": {},
   "outputs": [],
   "source": [
    "import urllib.request, urllib.parse, urllib.error\n",
    "from bs4 import BeautifulSoup\n",
    "import ssl\n",
    "import pandas as pd\n",
    "from collections import OrderedDict\n",
    "from pandas import ExcelWriter\n",
    "from pandas import ExcelFile"
   ]
  },
  {
   "cell_type": "code",
   "execution_count": 2,
   "metadata": {},
   "outputs": [],
   "source": [
    "ctx = ssl.create_default_context()\n",
    "ctx.check_hostname = False\n",
    "ctx.verify_mode = ssl.CERT_NONE"
   ]
  },
  {
   "cell_type": "code",
   "execution_count": 3,
   "metadata": {},
   "outputs": [],
   "source": [
    "# Get stats for MS Dhoni"
   ]
  },
  {
   "cell_type": "code",
   "execution_count": 4,
   "metadata": {},
   "outputs": [],
   "source": [
    "url=\"http://www.espncricinfo.com/india/content/player/34102.html\"\n",
    "html = urllib.request.urlopen(url, context=ctx).read()"
   ]
  },
  {
   "cell_type": "code",
   "execution_count": 5,
   "metadata": {},
   "outputs": [],
   "source": [
    "temp_data=OrderedDict()\n",
    "list_of_dict=[]\n",
    "bs=BeautifulSoup(html, \"lxml\")\n",
    "table_body=bs.find_all('tbody')\n",
    "rows = table_body[1].find_all('tr')\n",
    "for row in rows:\n",
    "    cols=row.find_all('td')\n",
    "    cols=[x.text.strip() for x in cols]\n",
    "    temp_data=OrderedDict()\n",
    "    for i in range(len(cols)):\n",
    "    \ttemp_data[\" \"]=cols[0]\n",
    "    \ttemp_data[\"Mins\"]=cols[1]\n",
    "    \ttemp_data[\"BF\"]=cols[2]\n",
    "    \ttemp_data[\"4s\"]=cols[3]\n",
    "    \ttemp_data[\"6s\"]=cols[4]\n",
    "    \ttemp_data[\"SR\"]=cols[5]\n",
    "    \ttemp_data[\"POS\"]=cols[6]\n",
    "    \ttemp_data[\"Dismissal\"]=cols[7]\n",
    "    \ttemp_data[\"Inns\"]=cols[8]\n",
    "    \ttemp_data[\"Opposition\"]=cols[10]\n",
    "    \ttemp_data[\"Ground\"]\t=cols[11]\n",
    "    \ttemp_data[\"Date\"]=cols[12]\n",
    "    list_of_dict.append(temp_data)\t"
   ]
  },
  {
   "cell_type": "code",
   "execution_count": 6,
   "metadata": {},
   "outputs": [],
   "source": [
    "df=pd.DataFrame(list_of_dict)"
   ]
  },
  {
   "cell_type": "code",
   "execution_count": 7,
   "metadata": {},
   "outputs": [
    {
     "data": {
      "text/html": [
       "<div>\n",
       "<style scoped>\n",
       "    .dataframe tbody tr th:only-of-type {\n",
       "        vertical-align: middle;\n",
       "    }\n",
       "\n",
       "    .dataframe tbody tr th {\n",
       "        vertical-align: top;\n",
       "    }\n",
       "\n",
       "    .dataframe thead th {\n",
       "        text-align: right;\n",
       "    }\n",
       "</style>\n",
       "<table border=\"1\" class=\"dataframe\">\n",
       "  <thead>\n",
       "    <tr style=\"text-align: right;\">\n",
       "      <th></th>\n",
       "      <th>Runs</th>\n",
       "      <th>Mins</th>\n",
       "      <th>BF</th>\n",
       "      <th>4s</th>\n",
       "      <th>6s</th>\n",
       "      <th>SR</th>\n",
       "      <th>POS</th>\n",
       "      <th>Dismissal</th>\n",
       "      <th>Inns</th>\n",
       "      <th>Opposition</th>\n",
       "      <th>Ground</th>\n",
       "      <th>Date</th>\n",
       "    </tr>\n",
       "  </thead>\n",
       "  <tbody>\n",
       "    <tr>\n",
       "      <th>0</th>\n",
       "      <td>Tests</td>\n",
       "      <td>27</td>\n",
       "      <td>10</td>\n",
       "      <td>334</td>\n",
       "      <td>202</td>\n",
       "      <td>2</td>\n",
       "      <td>1/26</td>\n",
       "      <td>1/35</td>\n",
       "      <td>101.00</td>\n",
       "      <td>167.0</td>\n",
       "      <td>0</td>\n",
       "      <td>0</td>\n",
       "    </tr>\n",
       "    <tr>\n",
       "      <th>1</th>\n",
       "      <td>ODIs</td>\n",
       "      <td>218</td>\n",
       "      <td>38</td>\n",
       "      <td>593</td>\n",
       "      <td>515</td>\n",
       "      <td>8</td>\n",
       "      <td>2/27</td>\n",
       "      <td>2/27</td>\n",
       "      <td>64.37</td>\n",
       "      <td>74.1</td>\n",
       "      <td>0</td>\n",
       "      <td>0</td>\n",
       "    </tr>\n",
       "    <tr>\n",
       "      <th>2</th>\n",
       "      <td>T20Is</td>\n",
       "      <td>98</td>\n",
       "      <td>9</td>\n",
       "      <td>68</td>\n",
       "      <td>113</td>\n",
       "      <td>1</td>\n",
       "      <td>1/22</td>\n",
       "      <td>1/22</td>\n",
       "      <td>113.00</td>\n",
       "      <td>68.0</td>\n",
       "      <td>0</td>\n",
       "      <td>0</td>\n",
       "    </tr>\n",
       "    <tr>\n",
       "      <th>3</th>\n",
       "      <td>First-class</td>\n",
       "      <td>87</td>\n",
       "      <td>64</td>\n",
       "      <td>2104</td>\n",
       "      <td>1132</td>\n",
       "      <td>24</td>\n",
       "      <td>4/41</td>\n",
       "      <td>5/85</td>\n",
       "      <td>47.16</td>\n",
       "      <td>87.6</td>\n",
       "      <td>1</td>\n",
       "      <td>0</td>\n",
       "    </tr>\n",
       "    <tr>\n",
       "      <th>4</th>\n",
       "      <td>List A</td>\n",
       "      <td>289</td>\n",
       "      <td>70</td>\n",
       "      <td>1367</td>\n",
       "      <td>1162</td>\n",
       "      <td>30</td>\n",
       "      <td>4/28</td>\n",
       "      <td>4/28</td>\n",
       "      <td>38.73</td>\n",
       "      <td>45.5</td>\n",
       "      <td>1</td>\n",
       "      <td>0</td>\n",
       "    </tr>\n",
       "    <tr>\n",
       "      <th>5</th>\n",
       "      <td>T20s</td>\n",
       "      <td>318</td>\n",
       "      <td>57</td>\n",
       "      <td>628</td>\n",
       "      <td>817</td>\n",
       "      <td>29</td>\n",
       "      <td>4/6</td>\n",
       "      <td>4/6</td>\n",
       "      <td>28.17</td>\n",
       "      <td>21.6</td>\n",
       "      <td>1</td>\n",
       "      <td>0</td>\n",
       "    </tr>\n",
       "  </tbody>\n",
       "</table>\n",
       "</div>"
      ],
      "text/plain": [
       "          Runs Mins  BF    4s    6s  SR   POS Dismissal    Inns Opposition  \\\n",
       "0        Tests   27  10   334   202   2  1/26      1/35  101.00      167.0   \n",
       "1         ODIs  218  38   593   515   8  2/27      2/27   64.37       74.1   \n",
       "2        T20Is   98   9    68   113   1  1/22      1/22  113.00       68.0   \n",
       "3  First-class   87  64  2104  1132  24  4/41      5/85   47.16       87.6   \n",
       "4       List A  289  70  1367  1162  30  4/28      4/28   38.73       45.5   \n",
       "5         T20s  318  57   628   817  29   4/6       4/6   28.17       21.6   \n",
       "\n",
       "  Ground Date  \n",
       "0      0    0  \n",
       "1      0    0  \n",
       "2      0    0  \n",
       "3      1    0  \n",
       "4      1    0  \n",
       "5      1    0  "
      ]
     },
     "execution_count": 7,
     "metadata": {},
     "output_type": "execute_result"
    }
   ],
   "source": [
    "df"
   ]
  },
  {
   "cell_type": "code",
   "execution_count": 53,
   "metadata": {},
   "outputs": [
    {
     "name": "stdout",
     "output_type": "stream",
     "text": [
      "15\n",
      "['Tests', '27', '47', '7', '1585', '177', '39.62', '2881', '55.01', '3', '10', '151', '32', '25', '0']\n",
      "['', 'Mat', 'Inns', 'NO', 'Runs', 'HS', 'Ave', 'BF', 'SR', '100', '50', '4s', '6s', 'Ct', 'St']\n",
      "['ODIs', '218', '211', '32', '8686', '264', '48.52', '9806', '88.57', '27', '42', '770', '232', '77', '0']\n",
      "['', 'Mat', 'Inns', 'NO', 'Runs', 'HS', 'Ave', 'BF', 'SR', '100', '50', '4s', '6s', 'Ct', 'St']\n",
      "['T20Is', '98', '90', '14', '2443', '118', '32.14', '1789', '136.55', '4', '17', '217', '109', '35', '0']\n",
      "['', 'Mat', 'Inns', 'NO', 'Runs', 'HS', 'Ave', 'BF', 'SR', '100', '50', '4s', '6s', 'Ct', 'St']\n",
      "['First-class', '87', '137', '16', '6562', '309*', '54.23', '', '', '20', '30', '', '', '67', '0']\n",
      "['', 'Mat', 'Inns', 'NO', 'Runs', 'HS', 'Ave', 'BF', 'SR', '100', '50', '4s', '6s', 'Ct', 'St']\n",
      "['List A', '289', '278', '40', '10928', '264', '45.91', '', '', '30', '55', '', '', '101', '0']\n",
      "['', 'Mat', 'Inns', 'NO', 'Runs', 'HS', 'Ave', 'BF', 'SR', '100', '50', '4s', '6s', 'Ct', 'St']\n",
      "['T20s', '318', '305', '46', '8312', '118', '32.09', '6254', '132.90', '6', '56', '735', '343', '126', '0']\n",
      "['', 'Mat', 'Inns', 'NO', 'Runs', 'HS', 'Ave', 'BF', 'SR', '100', '50', '4s', '6s', 'Ct', 'St']\n"
     ]
    }
   ],
   "source": [
    "temp_data=OrderedDict()\n",
    "list_of_dict=[]\n",
    "bs=BeautifulSoup(html, \"lxml\")\n",
    "table_body=bs.find_all('tbody')\n",
    "rows = table_body[0].find_all('tr')\n",
    "headings = bs.findAll('tr',{\"class\",\"head\"})\n",
    "\n",
    "\n",
    "heads = headings[:2]\n",
    "vatting = heads[0]\n",
    "bowling = heads [1]\n",
    "\n",
    "batText = vatting.find_all(\"th\")\n",
    "bowlText = bowling.find_all(\"th\")\n",
    "bat = []\n",
    "for i in batText:\n",
    "    bat.append(i.text)\n",
    "    \n",
    "bowl = []\n",
    "for i in bowlText:\n",
    "    bowl.append(i.text)    \n",
    "\n",
    "# print(bat[1:])   \n",
    "# print(bowl[1:])\n",
    "\n",
    "# bat = bat[1:]\n",
    "# bowl = bowl[1:]\n",
    "print(len(bat))\n",
    "\n",
    "for row in rows:\n",
    "    cols=row.find_all('td')\n",
    "    cols=[x.text.strip() for x in cols]\n",
    "    temp_data=OrderedDict()\n",
    "    {el:0 for el in bat}\n",
    "#     print(len(cols))\n",
    "    print(cols)\n",
    "    print(bat)\n",
    "    for col in range(len(cols)):\n",
    "        temp_data[bat[col]] = cols[col]\n",
    "\n",
    "    list_of_dict.append(temp_data)\t"
   ]
  },
  {
   "cell_type": "code",
   "execution_count": null,
   "metadata": {},
   "outputs": [],
   "source": []
  },
  {
   "cell_type": "code",
   "execution_count": 56,
   "metadata": {},
   "outputs": [
    {
     "data": {
      "text/html": [
       "<div>\n",
       "<style scoped>\n",
       "    .dataframe tbody tr th:only-of-type {\n",
       "        vertical-align: middle;\n",
       "    }\n",
       "\n",
       "    .dataframe tbody tr th {\n",
       "        vertical-align: top;\n",
       "    }\n",
       "\n",
       "    .dataframe thead th {\n",
       "        text-align: right;\n",
       "    }\n",
       "</style>\n",
       "<table border=\"1\" class=\"dataframe\">\n",
       "  <thead>\n",
       "    <tr style=\"text-align: right;\">\n",
       "      <th></th>\n",
       "      <th>Mat</th>\n",
       "      <th>Inns</th>\n",
       "      <th>NO</th>\n",
       "      <th>Runs</th>\n",
       "      <th>HS</th>\n",
       "      <th>Ave</th>\n",
       "      <th>BF</th>\n",
       "      <th>SR</th>\n",
       "      <th>100</th>\n",
       "      <th>50</th>\n",
       "      <th>4s</th>\n",
       "      <th>6s</th>\n",
       "      <th>Ct</th>\n",
       "      <th>St</th>\n",
       "    </tr>\n",
       "    <tr>\n",
       "      <th></th>\n",
       "      <th></th>\n",
       "      <th></th>\n",
       "      <th></th>\n",
       "      <th></th>\n",
       "      <th></th>\n",
       "      <th></th>\n",
       "      <th></th>\n",
       "      <th></th>\n",
       "      <th></th>\n",
       "      <th></th>\n",
       "      <th></th>\n",
       "      <th></th>\n",
       "      <th></th>\n",
       "      <th></th>\n",
       "    </tr>\n",
       "  </thead>\n",
       "  <tbody>\n",
       "    <tr>\n",
       "      <th>Tests</th>\n",
       "      <td>27</td>\n",
       "      <td>47</td>\n",
       "      <td>7</td>\n",
       "      <td>1585</td>\n",
       "      <td>177</td>\n",
       "      <td>39.62</td>\n",
       "      <td>2881</td>\n",
       "      <td>55.01</td>\n",
       "      <td>3</td>\n",
       "      <td>10</td>\n",
       "      <td>151</td>\n",
       "      <td>32</td>\n",
       "      <td>25</td>\n",
       "      <td>0</td>\n",
       "    </tr>\n",
       "    <tr>\n",
       "      <th>ODIs</th>\n",
       "      <td>218</td>\n",
       "      <td>211</td>\n",
       "      <td>32</td>\n",
       "      <td>8686</td>\n",
       "      <td>264</td>\n",
       "      <td>48.52</td>\n",
       "      <td>9806</td>\n",
       "      <td>88.57</td>\n",
       "      <td>27</td>\n",
       "      <td>42</td>\n",
       "      <td>770</td>\n",
       "      <td>232</td>\n",
       "      <td>77</td>\n",
       "      <td>0</td>\n",
       "    </tr>\n",
       "    <tr>\n",
       "      <th>T20Is</th>\n",
       "      <td>98</td>\n",
       "      <td>90</td>\n",
       "      <td>14</td>\n",
       "      <td>2443</td>\n",
       "      <td>118</td>\n",
       "      <td>32.14</td>\n",
       "      <td>1789</td>\n",
       "      <td>136.55</td>\n",
       "      <td>4</td>\n",
       "      <td>17</td>\n",
       "      <td>217</td>\n",
       "      <td>109</td>\n",
       "      <td>35</td>\n",
       "      <td>0</td>\n",
       "    </tr>\n",
       "    <tr>\n",
       "      <th>First-class</th>\n",
       "      <td>87</td>\n",
       "      <td>137</td>\n",
       "      <td>16</td>\n",
       "      <td>6562</td>\n",
       "      <td>309*</td>\n",
       "      <td>54.23</td>\n",
       "      <td></td>\n",
       "      <td></td>\n",
       "      <td>20</td>\n",
       "      <td>30</td>\n",
       "      <td></td>\n",
       "      <td></td>\n",
       "      <td>67</td>\n",
       "      <td>0</td>\n",
       "    </tr>\n",
       "    <tr>\n",
       "      <th>List A</th>\n",
       "      <td>289</td>\n",
       "      <td>278</td>\n",
       "      <td>40</td>\n",
       "      <td>10928</td>\n",
       "      <td>264</td>\n",
       "      <td>45.91</td>\n",
       "      <td></td>\n",
       "      <td></td>\n",
       "      <td>30</td>\n",
       "      <td>55</td>\n",
       "      <td></td>\n",
       "      <td></td>\n",
       "      <td>101</td>\n",
       "      <td>0</td>\n",
       "    </tr>\n",
       "    <tr>\n",
       "      <th>T20s</th>\n",
       "      <td>318</td>\n",
       "      <td>305</td>\n",
       "      <td>46</td>\n",
       "      <td>8312</td>\n",
       "      <td>118</td>\n",
       "      <td>32.09</td>\n",
       "      <td>6254</td>\n",
       "      <td>132.90</td>\n",
       "      <td>6</td>\n",
       "      <td>56</td>\n",
       "      <td>735</td>\n",
       "      <td>343</td>\n",
       "      <td>126</td>\n",
       "      <td>0</td>\n",
       "    </tr>\n",
       "  </tbody>\n",
       "</table>\n",
       "</div>"
      ],
      "text/plain": [
       "             Mat Inns  NO   Runs    HS    Ave    BF      SR 100  50   4s   6s  \\\n",
       "                                                                                \n",
       "Tests         27   47   7   1585   177  39.62  2881   55.01   3  10  151   32   \n",
       "ODIs         218  211  32   8686   264  48.52  9806   88.57  27  42  770  232   \n",
       "T20Is         98   90  14   2443   118  32.14  1789  136.55   4  17  217  109   \n",
       "First-class   87  137  16   6562  309*  54.23                20  30             \n",
       "List A       289  278  40  10928   264  45.91                30  55             \n",
       "T20s         318  305  46   8312   118  32.09  6254  132.90   6  56  735  343   \n",
       "\n",
       "              Ct St  \n",
       "                     \n",
       "Tests         25  0  \n",
       "ODIs          77  0  \n",
       "T20Is         35  0  \n",
       "First-class   67  0  \n",
       "List A       101  0  \n",
       "T20s         126  0  "
      ]
     },
     "execution_count": 56,
     "metadata": {},
     "output_type": "execute_result"
    }
   ],
   "source": [
    "df=pd.DataFrame(list_of_dict)\n",
    "df\n",
    "df.set_index('', inplace=True)\n",
    "df"
   ]
  },
  {
   "cell_type": "code",
   "execution_count": 8,
   "metadata": {},
   "outputs": [],
   "source": [
    "writer = ExcelWriter('ms-dhoni.xlsx')\n",
    "df.to_excel(writer,'Sheet1',index=False)\n",
    "writer.save()"
   ]
  },
  {
   "cell_type": "code",
   "execution_count": 57,
   "metadata": {},
   "outputs": [],
   "source": [
    "import sqlite3\n"
   ]
  },
  {
   "cell_type": "code",
   "execution_count": 75,
   "metadata": {},
   "outputs": [],
   "source": [
    "conn = sqlite3.connect('TestsMatches.db')  \n",
    "c = conn.cursor()"
   ]
  },
  {
   "cell_type": "code",
   "execution_count": 76,
   "metadata": {},
   "outputs": [
    {
     "ename": "OperationalError",
     "evalue": "table TESTS already exists",
     "output_type": "error",
     "traceback": [
      "\u001b[0;31m---------------------------------------------------------------------------\u001b[0m",
      "\u001b[0;31mOperationalError\u001b[0m                          Traceback (most recent call last)",
      "\u001b[0;32m<ipython-input-76-9776a1acbd53>\u001b[0m in \u001b[0;36m<module>\u001b[0;34m\u001b[0m\n\u001b[1;32m      1\u001b[0m c.execute('''CREATE TABLE TESTS\n\u001b[0;32m----> 2\u001b[0;31m              ([generated_id] INTEGER PRIMARY KEY,[Mat] integer, [Inns] integer, [NO] integer)''')\n\u001b[0m\u001b[1;32m      3\u001b[0m \u001b[0;34m\u001b[0m\u001b[0m\n",
      "\u001b[0;31mOperationalError\u001b[0m: table TESTS already exists"
     ]
    }
   ],
   "source": [
    "c.execute('''CREATE TABLE TESTS\n",
    "             ([generated_id] INTEGER PRIMARY KEY,[Mat] integer, [Inns] integer, [NO] integer)''')\n",
    "          "
   ]
  },
  {
   "cell_type": "code",
   "execution_count": 77,
   "metadata": {},
   "outputs": [],
   "source": [
    "query = \"\"\"INSERT INTO 'TESTS'\n",
    "                          ('Mat', 'Inns', 'NO') \n",
    "                          VALUES (?, ?, ?);\"\"\"\n",
    "tup = [1,2,3]\n",
    "c.execute(query, tup)\n",
    "conn.commit()"
   ]
  },
  {
   "cell_type": "code",
   "execution_count": 78,
   "metadata": {},
   "outputs": [
    {
     "name": "stdout",
     "output_type": "stream",
     "text": [
      "[(1, 1, 2, 3), (2, 1, 2, 3), (3, 1, 2, 3)]\n"
     ]
    }
   ],
   "source": [
    "c.execute(\"SELECT * FROM TESTS\")\n",
    " \n",
    "rows = c.fetchall()\n",
    "print(rows)"
   ]
  },
  {
   "cell_type": "code",
   "execution_count": 73,
   "metadata": {},
   "outputs": [
    {
     "name": "stdout",
     "output_type": "stream",
     "text": [
      "<class 'pandas.core.series.Series'>\n"
     ]
    }
   ],
   "source": [
    "print(type(df.iloc[0]))"
   ]
  },
  {
   "cell_type": "code",
   "execution_count": 74,
   "metadata": {},
   "outputs": [
    {
     "name": "stdout",
     "output_type": "stream",
     "text": [
      "['', 'Mat', 'Inns', 'NO', 'Runs', 'HS', 'Ave', 'BF', 'SR', '100', '50', '4s', '6s', 'Ct', 'St']\n"
     ]
    }
   ],
   "source": [
    "print(bat)"
   ]
  },
  {
   "cell_type": "code",
   "execution_count": null,
   "metadata": {},
   "outputs": [],
   "source": []
  }
 ],
 "metadata": {
  "kernelspec": {
   "display_name": "Python 3",
   "language": "python",
   "name": "python3"
  },
  "language_info": {
   "codemirror_mode": {
    "name": "ipython",
    "version": 3
   },
   "file_extension": ".py",
   "mimetype": "text/x-python",
   "name": "python",
   "nbconvert_exporter": "python",
   "pygments_lexer": "ipython3",
   "version": "3.7.3"
  }
 },
 "nbformat": 4,
 "nbformat_minor": 2
}
